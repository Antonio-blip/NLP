{
  "nbformat": 4,
  "nbformat_minor": 0,
  "metadata": {
    "colab": {
      "provenance": []
    },
    "kernelspec": {
      "name": "python3",
      "display_name": "Python 3"
    },
    "language_info": {
      "name": "python"
    }
  },
  "cells": [
    {
      "cell_type": "code",
      "source": [
        "pip install rarfile"
      ],
      "metadata": {
        "colab": {
          "base_uri": "https://localhost:8080/"
        },
        "id": "CUCQRs5fBUk4",
        "outputId": "f15e3453-deab-410c-c055-5b438eacebf4"
      },
      "execution_count": 24,
      "outputs": [
        {
          "output_type": "stream",
          "name": "stdout",
          "text": [
            "Requirement already satisfied: rarfile in /usr/local/lib/python3.10/dist-packages (4.0)\n"
          ]
        }
      ]
    },
    {
      "cell_type": "code",
      "execution_count": 50,
      "metadata": {
        "id": "WGD5p3U-AfaC"
      },
      "outputs": [],
      "source": [
        "import numpy as np\n",
        "import pandas as pd\n",
        "import os\n",
        "import rarfile\n",
        "import random\n",
        "import pickle\n",
        "from sklearn.model_selection import train_test_split\n",
        "from sklearn.feature_extraction.text import CountVectorizer, TfidfVectorizer\n",
        "from sklearn.naive_bayes import MultinomialNB\n",
        "from sklearn.metrics import accuracy_score, precision_score, recall_score, f1_score, confusion_matrix, classification_report\n",
        "from sklearn.ensemble import RandomForestClassifier\n",
        "from sklearn.linear_model import LogisticRegression\n",
        "from sklearn.svm import SVC\n",
        "from imblearn.over_sampling import RandomOverSampler\n",
        "from imblearn.under_sampling import RandomUnderSampler\n",
        "import matplotlib.pyplot as plt\n",
        "\n",
        "\n",
        "\n",
        "\n"
      ]
    },
    {
      "cell_type": "code",
      "source": [
        "# Especifica el nombre del archivo RAR\n",
        "rar_file_name = 'data2.rar'  # Reemplaza con el nombre correcto\n",
        "\n",
        "try:\n",
        "    # Intenta extraer los archivos del RAR en el directorio actual\n",
        "    rar = rarfile.RarFile(rar_file_name)\n",
        "    rar.extractall()\n",
        "\n",
        "    # Elimina el archivo RAR después de la extracción\n",
        "    os.remove(rar_file_name)\n",
        "\n",
        "    print(f'El archivo {rar_file_name} ha sido eliminado con éxito y se ha extraído el contenido en la carpeta /data.')\n",
        "except FileNotFoundError:\n",
        "    # Si el archivo RAR no se encuentra, muestra un mensaje personalizado\n",
        "    display(Markdown(f'<font color=\"red\"><b>El archivo {rar_file_name} no se encuentra en el directorio actual o no puede ser eliminado.</b></font>'))"
      ],
      "metadata": {
        "colab": {
          "base_uri": "https://localhost:8080/"
        },
        "id": "9ydb7RmiBHiY",
        "outputId": "abac78dd-4703-4214-8914-38d16fbce8b2"
      },
      "execution_count": 25,
      "outputs": [
        {
          "output_type": "stream",
          "name": "stdout",
          "text": [
            "El archivo data2.rar ha sido eliminado con éxito y se ha extraído el contenido en la carpeta /data.\n"
          ]
        }
      ]
    },
    {
      "cell_type": "code",
      "source": [
        "\n",
        "# Cargar el DataFrame desde el archivo CSV\n",
        "file_path = '/content/data/corpusMini_df2.csv'\n",
        "corpus_df = pd.read_csv(file_path)\n",
        "\n",
        "# Asegurarnos de que los datos estén cargados correctamente\n",
        "corpus_df.head()"
      ],
      "metadata": {
        "id": "LyNaV6IrBope",
        "colab": {
          "base_uri": "https://localhost:8080/",
          "height": 310
        },
        "outputId": "e3941668-f47a-417b-896b-ef115a7e011a"
      },
      "execution_count": 26,
      "outputs": [
        {
          "output_type": "execute_result",
          "data": {
            "text/plain": [
              "       reviewerID        asin             reviewerName  helpful  \\\n",
              "0   AN4KLPNB56X3Z  B000MD3MIW                   carrie   [3, 3]   \n",
              "1   A60I915C5M3JE  B000J3HZWE  Ellen Dawson \"seriousb\"   [2, 3]   \n",
              "2  A15Q9YEG1XPEJN  B00I18UVO8         Get What We Give   [3, 6]   \n",
              "3  A3V9TR2U1KISVK  B0029NGZ5K                Sarah1989  [6, 13]   \n",
              "4  A3QD59N3M7O7KB  B0015GIPDW                  Xina143   [4, 5]   \n",
              "\n",
              "                                          reviewText  overall  \\\n",
              "0  I was replacing another petsafe door with this...      1.0   \n",
              "1  I read all of the reviews before purchasing an...      1.0   \n",
              "2  I didn't realize when I ordered this product t...      1.0   \n",
              "3  There is very little meat in this food and the...      1.0   \n",
              "4  We used this skimmer for a few months, but fou...      1.0   \n",
              "\n",
              "                                             summary  unixReviewTime  \\\n",
              "0                                      Horrible Door      1340323200   \n",
              "1                                     Waste of Money      1283472000   \n",
              "2  I cannot in good conscience give this treat to...      1396569600   \n",
              "3                             Very poor quality food      1274227200   \n",
              "4                                 Disposable skimmer      1238025600   \n",
              "\n",
              "    reviewTime  sentiment                                  preprocessed_text  \\\n",
              "0  06 22, 2012          0  replace another petsafe door one measurements ...   \n",
              "1   09 3, 2010          0  read review purchase extremely hopeful black l...   \n",
              "2   04 4, 2014          0  didnt realize order product product recall las...   \n",
              "3  05 19, 2010          0  little meat food toxic chemicals various meat ...   \n",
              "4  03 26, 2009          0  use skimmer months find remove little waste in...   \n",
              "\n",
              "                                     processedReview  \n",
              "0  replace another petsafe door one measurements ...  \n",
              "1  read review purchase extremely hopeful black l...  \n",
              "2  didnt realize order product product recall las...  \n",
              "3  little meat food toxic chemicals various meat ...  \n",
              "4  use skimmer months find remove little waste in...  "
            ],
            "text/html": [
              "\n",
              "  <div id=\"df-38ce3e54-fe3a-4e41-b079-7ed8629f0baf\" class=\"colab-df-container\">\n",
              "    <div>\n",
              "<style scoped>\n",
              "    .dataframe tbody tr th:only-of-type {\n",
              "        vertical-align: middle;\n",
              "    }\n",
              "\n",
              "    .dataframe tbody tr th {\n",
              "        vertical-align: top;\n",
              "    }\n",
              "\n",
              "    .dataframe thead th {\n",
              "        text-align: right;\n",
              "    }\n",
              "</style>\n",
              "<table border=\"1\" class=\"dataframe\">\n",
              "  <thead>\n",
              "    <tr style=\"text-align: right;\">\n",
              "      <th></th>\n",
              "      <th>reviewerID</th>\n",
              "      <th>asin</th>\n",
              "      <th>reviewerName</th>\n",
              "      <th>helpful</th>\n",
              "      <th>reviewText</th>\n",
              "      <th>overall</th>\n",
              "      <th>summary</th>\n",
              "      <th>unixReviewTime</th>\n",
              "      <th>reviewTime</th>\n",
              "      <th>sentiment</th>\n",
              "      <th>preprocessed_text</th>\n",
              "      <th>processedReview</th>\n",
              "    </tr>\n",
              "  </thead>\n",
              "  <tbody>\n",
              "    <tr>\n",
              "      <th>0</th>\n",
              "      <td>AN4KLPNB56X3Z</td>\n",
              "      <td>B000MD3MIW</td>\n",
              "      <td>carrie</td>\n",
              "      <td>[3, 3]</td>\n",
              "      <td>I was replacing another petsafe door with this...</td>\n",
              "      <td>1.0</td>\n",
              "      <td>Horrible Door</td>\n",
              "      <td>1340323200</td>\n",
              "      <td>06 22, 2012</td>\n",
              "      <td>0</td>\n",
              "      <td>replace another petsafe door one measurements ...</td>\n",
              "      <td>replace another petsafe door one measurements ...</td>\n",
              "    </tr>\n",
              "    <tr>\n",
              "      <th>1</th>\n",
              "      <td>A60I915C5M3JE</td>\n",
              "      <td>B000J3HZWE</td>\n",
              "      <td>Ellen Dawson \"seriousb\"</td>\n",
              "      <td>[2, 3]</td>\n",
              "      <td>I read all of the reviews before purchasing an...</td>\n",
              "      <td>1.0</td>\n",
              "      <td>Waste of Money</td>\n",
              "      <td>1283472000</td>\n",
              "      <td>09 3, 2010</td>\n",
              "      <td>0</td>\n",
              "      <td>read review purchase extremely hopeful black l...</td>\n",
              "      <td>read review purchase extremely hopeful black l...</td>\n",
              "    </tr>\n",
              "    <tr>\n",
              "      <th>2</th>\n",
              "      <td>A15Q9YEG1XPEJN</td>\n",
              "      <td>B00I18UVO8</td>\n",
              "      <td>Get What We Give</td>\n",
              "      <td>[3, 6]</td>\n",
              "      <td>I didn't realize when I ordered this product t...</td>\n",
              "      <td>1.0</td>\n",
              "      <td>I cannot in good conscience give this treat to...</td>\n",
              "      <td>1396569600</td>\n",
              "      <td>04 4, 2014</td>\n",
              "      <td>0</td>\n",
              "      <td>didnt realize order product product recall las...</td>\n",
              "      <td>didnt realize order product product recall las...</td>\n",
              "    </tr>\n",
              "    <tr>\n",
              "      <th>3</th>\n",
              "      <td>A3V9TR2U1KISVK</td>\n",
              "      <td>B0029NGZ5K</td>\n",
              "      <td>Sarah1989</td>\n",
              "      <td>[6, 13]</td>\n",
              "      <td>There is very little meat in this food and the...</td>\n",
              "      <td>1.0</td>\n",
              "      <td>Very poor quality food</td>\n",
              "      <td>1274227200</td>\n",
              "      <td>05 19, 2010</td>\n",
              "      <td>0</td>\n",
              "      <td>little meat food toxic chemicals various meat ...</td>\n",
              "      <td>little meat food toxic chemicals various meat ...</td>\n",
              "    </tr>\n",
              "    <tr>\n",
              "      <th>4</th>\n",
              "      <td>A3QD59N3M7O7KB</td>\n",
              "      <td>B0015GIPDW</td>\n",
              "      <td>Xina143</td>\n",
              "      <td>[4, 5]</td>\n",
              "      <td>We used this skimmer for a few months, but fou...</td>\n",
              "      <td>1.0</td>\n",
              "      <td>Disposable skimmer</td>\n",
              "      <td>1238025600</td>\n",
              "      <td>03 26, 2009</td>\n",
              "      <td>0</td>\n",
              "      <td>use skimmer months find remove little waste in...</td>\n",
              "      <td>use skimmer months find remove little waste in...</td>\n",
              "    </tr>\n",
              "  </tbody>\n",
              "</table>\n",
              "</div>\n",
              "    <div class=\"colab-df-buttons\">\n",
              "\n",
              "  <div class=\"colab-df-container\">\n",
              "    <button class=\"colab-df-convert\" onclick=\"convertToInteractive('df-38ce3e54-fe3a-4e41-b079-7ed8629f0baf')\"\n",
              "            title=\"Convert this dataframe to an interactive table.\"\n",
              "            style=\"display:none;\">\n",
              "\n",
              "  <svg xmlns=\"http://www.w3.org/2000/svg\" height=\"24px\" viewBox=\"0 -960 960 960\">\n",
              "    <path d=\"M120-120v-720h720v720H120Zm60-500h600v-160H180v160Zm220 220h160v-160H400v160Zm0 220h160v-160H400v160ZM180-400h160v-160H180v160Zm440 0h160v-160H620v160ZM180-180h160v-160H180v160Zm440 0h160v-160H620v160Z\"/>\n",
              "  </svg>\n",
              "    </button>\n",
              "\n",
              "  <style>\n",
              "    .colab-df-container {\n",
              "      display:flex;\n",
              "      gap: 12px;\n",
              "    }\n",
              "\n",
              "    .colab-df-convert {\n",
              "      background-color: #E8F0FE;\n",
              "      border: none;\n",
              "      border-radius: 50%;\n",
              "      cursor: pointer;\n",
              "      display: none;\n",
              "      fill: #1967D2;\n",
              "      height: 32px;\n",
              "      padding: 0 0 0 0;\n",
              "      width: 32px;\n",
              "    }\n",
              "\n",
              "    .colab-df-convert:hover {\n",
              "      background-color: #E2EBFA;\n",
              "      box-shadow: 0px 1px 2px rgba(60, 64, 67, 0.3), 0px 1px 3px 1px rgba(60, 64, 67, 0.15);\n",
              "      fill: #174EA6;\n",
              "    }\n",
              "\n",
              "    .colab-df-buttons div {\n",
              "      margin-bottom: 4px;\n",
              "    }\n",
              "\n",
              "    [theme=dark] .colab-df-convert {\n",
              "      background-color: #3B4455;\n",
              "      fill: #D2E3FC;\n",
              "    }\n",
              "\n",
              "    [theme=dark] .colab-df-convert:hover {\n",
              "      background-color: #434B5C;\n",
              "      box-shadow: 0px 1px 3px 1px rgba(0, 0, 0, 0.15);\n",
              "      filter: drop-shadow(0px 1px 2px rgba(0, 0, 0, 0.3));\n",
              "      fill: #FFFFFF;\n",
              "    }\n",
              "  </style>\n",
              "\n",
              "    <script>\n",
              "      const buttonEl =\n",
              "        document.querySelector('#df-38ce3e54-fe3a-4e41-b079-7ed8629f0baf button.colab-df-convert');\n",
              "      buttonEl.style.display =\n",
              "        google.colab.kernel.accessAllowed ? 'block' : 'none';\n",
              "\n",
              "      async function convertToInteractive(key) {\n",
              "        const element = document.querySelector('#df-38ce3e54-fe3a-4e41-b079-7ed8629f0baf');\n",
              "        const dataTable =\n",
              "          await google.colab.kernel.invokeFunction('convertToInteractive',\n",
              "                                                    [key], {});\n",
              "        if (!dataTable) return;\n",
              "\n",
              "        const docLinkHtml = 'Like what you see? Visit the ' +\n",
              "          '<a target=\"_blank\" href=https://colab.research.google.com/notebooks/data_table.ipynb>data table notebook</a>'\n",
              "          + ' to learn more about interactive tables.';\n",
              "        element.innerHTML = '';\n",
              "        dataTable['output_type'] = 'display_data';\n",
              "        await google.colab.output.renderOutput(dataTable, element);\n",
              "        const docLink = document.createElement('div');\n",
              "        docLink.innerHTML = docLinkHtml;\n",
              "        element.appendChild(docLink);\n",
              "      }\n",
              "    </script>\n",
              "  </div>\n",
              "\n",
              "\n",
              "<div id=\"df-389b8072-11ac-42f7-8a0f-31cb977ac290\">\n",
              "  <button class=\"colab-df-quickchart\" onclick=\"quickchart('df-389b8072-11ac-42f7-8a0f-31cb977ac290')\"\n",
              "            title=\"Suggest charts.\"\n",
              "            style=\"display:none;\">\n",
              "\n",
              "<svg xmlns=\"http://www.w3.org/2000/svg\" height=\"24px\"viewBox=\"0 0 24 24\"\n",
              "     width=\"24px\">\n",
              "    <g>\n",
              "        <path d=\"M19 3H5c-1.1 0-2 .9-2 2v14c0 1.1.9 2 2 2h14c1.1 0 2-.9 2-2V5c0-1.1-.9-2-2-2zM9 17H7v-7h2v7zm4 0h-2V7h2v10zm4 0h-2v-4h2v4z\"/>\n",
              "    </g>\n",
              "</svg>\n",
              "  </button>\n",
              "\n",
              "<style>\n",
              "  .colab-df-quickchart {\n",
              "      --bg-color: #E8F0FE;\n",
              "      --fill-color: #1967D2;\n",
              "      --hover-bg-color: #E2EBFA;\n",
              "      --hover-fill-color: #174EA6;\n",
              "      --disabled-fill-color: #AAA;\n",
              "      --disabled-bg-color: #DDD;\n",
              "  }\n",
              "\n",
              "  [theme=dark] .colab-df-quickchart {\n",
              "      --bg-color: #3B4455;\n",
              "      --fill-color: #D2E3FC;\n",
              "      --hover-bg-color: #434B5C;\n",
              "      --hover-fill-color: #FFFFFF;\n",
              "      --disabled-bg-color: #3B4455;\n",
              "      --disabled-fill-color: #666;\n",
              "  }\n",
              "\n",
              "  .colab-df-quickchart {\n",
              "    background-color: var(--bg-color);\n",
              "    border: none;\n",
              "    border-radius: 50%;\n",
              "    cursor: pointer;\n",
              "    display: none;\n",
              "    fill: var(--fill-color);\n",
              "    height: 32px;\n",
              "    padding: 0;\n",
              "    width: 32px;\n",
              "  }\n",
              "\n",
              "  .colab-df-quickchart:hover {\n",
              "    background-color: var(--hover-bg-color);\n",
              "    box-shadow: 0 1px 2px rgba(60, 64, 67, 0.3), 0 1px 3px 1px rgba(60, 64, 67, 0.15);\n",
              "    fill: var(--button-hover-fill-color);\n",
              "  }\n",
              "\n",
              "  .colab-df-quickchart-complete:disabled,\n",
              "  .colab-df-quickchart-complete:disabled:hover {\n",
              "    background-color: var(--disabled-bg-color);\n",
              "    fill: var(--disabled-fill-color);\n",
              "    box-shadow: none;\n",
              "  }\n",
              "\n",
              "  .colab-df-spinner {\n",
              "    border: 2px solid var(--fill-color);\n",
              "    border-color: transparent;\n",
              "    border-bottom-color: var(--fill-color);\n",
              "    animation:\n",
              "      spin 1s steps(1) infinite;\n",
              "  }\n",
              "\n",
              "  @keyframes spin {\n",
              "    0% {\n",
              "      border-color: transparent;\n",
              "      border-bottom-color: var(--fill-color);\n",
              "      border-left-color: var(--fill-color);\n",
              "    }\n",
              "    20% {\n",
              "      border-color: transparent;\n",
              "      border-left-color: var(--fill-color);\n",
              "      border-top-color: var(--fill-color);\n",
              "    }\n",
              "    30% {\n",
              "      border-color: transparent;\n",
              "      border-left-color: var(--fill-color);\n",
              "      border-top-color: var(--fill-color);\n",
              "      border-right-color: var(--fill-color);\n",
              "    }\n",
              "    40% {\n",
              "      border-color: transparent;\n",
              "      border-right-color: var(--fill-color);\n",
              "      border-top-color: var(--fill-color);\n",
              "    }\n",
              "    60% {\n",
              "      border-color: transparent;\n",
              "      border-right-color: var(--fill-color);\n",
              "    }\n",
              "    80% {\n",
              "      border-color: transparent;\n",
              "      border-right-color: var(--fill-color);\n",
              "      border-bottom-color: var(--fill-color);\n",
              "    }\n",
              "    90% {\n",
              "      border-color: transparent;\n",
              "      border-bottom-color: var(--fill-color);\n",
              "    }\n",
              "  }\n",
              "</style>\n",
              "\n",
              "  <script>\n",
              "    async function quickchart(key) {\n",
              "      const quickchartButtonEl =\n",
              "        document.querySelector('#' + key + ' button');\n",
              "      quickchartButtonEl.disabled = true;  // To prevent multiple clicks.\n",
              "      quickchartButtonEl.classList.add('colab-df-spinner');\n",
              "      try {\n",
              "        const charts = await google.colab.kernel.invokeFunction(\n",
              "            'suggestCharts', [key], {});\n",
              "      } catch (error) {\n",
              "        console.error('Error during call to suggestCharts:', error);\n",
              "      }\n",
              "      quickchartButtonEl.classList.remove('colab-df-spinner');\n",
              "      quickchartButtonEl.classList.add('colab-df-quickchart-complete');\n",
              "    }\n",
              "    (() => {\n",
              "      let quickchartButtonEl =\n",
              "        document.querySelector('#df-389b8072-11ac-42f7-8a0f-31cb977ac290 button');\n",
              "      quickchartButtonEl.style.display =\n",
              "        google.colab.kernel.accessAllowed ? 'block' : 'none';\n",
              "    })();\n",
              "  </script>\n",
              "</div>\n",
              "    </div>\n",
              "  </div>\n"
            ]
          },
          "metadata": {},
          "execution_count": 26
        }
      ]
    },
    {
      "cell_type": "markdown",
      "source": [
        "Modelo train / test a partir de la columna processedReview"
      ],
      "metadata": {
        "id": "RZd6VImbDPdh"
      }
    },
    {
      "cell_type": "code",
      "source": [
        "# Dividir los datos en características (X) y etiquetas (y)\n",
        "X = corpus_df['processedReview']  # Características (comentarios procesados)\n",
        "y = corpus_df['sentiment']  # Etiquetas (sentimiento)\n",
        "\n",
        "# Dividir los datos en conjuntos de entrenamiento y prueba\n",
        "X_train, X_test, y_train, y_test = train_test_split(\n",
        "    X,  # Características\n",
        "    y,  # Etiquetas\n",
        "    train_size=0.75,  # Proporción del conjunto de entrenamiento\n",
        "    test_size=0.25,  # Proporción del conjunto de prueba\n",
        "    random_state=42,  # Semilla aleatoria para reproducibilidad\n",
        "    shuffle=True,  # Mezclar los datos antes de dividir\n",
        "    stratify=y  # Estratificación basada en las etiquetas para mantener la proporción de clases\n",
        ")\n",
        "\n",
        "# Ahora tienes X_train y y_train para entrenar tu modelo, y X_test e y_test para evaluarlo.\n"
      ],
      "metadata": {
        "id": "TsIfGeJRBs0l"
      },
      "execution_count": 27,
      "outputs": []
    },
    {
      "cell_type": "code",
      "source": [
        "total_reviews = len(corpus_df)\n",
        "train_reviews = len(X_train)\n",
        "test_reviews = len(X_test)\n",
        "\n",
        "train_percentage = (train_reviews / total_reviews) * 100\n",
        "test_percentage = (test_reviews / total_reviews) * 100\n",
        "\n",
        "print(f\"Número de revisiones en el conjunto de entrenamiento: {train_reviews}\")\n",
        "print(f\"Porcentaje de revisiones en el conjunto de entrenamiento: {train_percentage:.2f}%\")\n",
        "\n",
        "print(f\"Número de revisiones en el conjunto de prueba: {test_reviews}\")\n",
        "print(f\"Porcentaje de revisiones en el conjunto de prueba: {test_percentage:.2f}%\")"
      ],
      "metadata": {
        "id": "u87PuiIzDyEY",
        "colab": {
          "base_uri": "https://localhost:8080/"
        },
        "outputId": "c5cb0871-ef3c-4a05-9423-ffe026ddaec4"
      },
      "execution_count": 28,
      "outputs": [
        {
          "output_type": "stream",
          "name": "stdout",
          "text": [
            "Número de revisiones en el conjunto de entrenamiento: 2250\n",
            "Porcentaje de revisiones en el conjunto de entrenamiento: 75.00%\n",
            "Número de revisiones en el conjunto de prueba: 750\n",
            "Porcentaje de revisiones en el conjunto de prueba: 25.00%\n"
          ]
        }
      ]
    },
    {
      "cell_type": "code",
      "source": [
        "#generar los parámetros(features) para utilizar TF-IDF(Term Frequency-Inverse Document Frequency)\n",
        "cv = TfidfVectorizer(\n",
        "    max_df=0.98,  #no tener palabras en cuenta que estén en más del 95% de las reviews.\n",
        "    min_df=3, #tampoco si aparecen menos de 3 veces (las consideraremos faltas de ortografía)\n",
        "    max_features=10000, #ponemos un número aproximado a la cardinalidad para asegurarnos que cogemos todas los tokens posibles.\n",
        "    #strip_accents='ascii', el texto ya está limpio con lo que esto no es necesario.\n",
        "    ngram_range=(1, 3) #trabajamos con ngrams de 1,2 y 3\n",
        ")\n",
        "cv.fit(X_train)"
      ],
      "metadata": {
        "id": "ZPE8g2taJAih",
        "colab": {
          "base_uri": "https://localhost:8080/",
          "height": 75
        },
        "outputId": "e26e493d-174d-4807-f739-91aed1eed6c0"
      },
      "execution_count": 29,
      "outputs": [
        {
          "output_type": "execute_result",
          "data": {
            "text/plain": [
              "TfidfVectorizer(max_df=0.98, max_features=10000, min_df=3, ngram_range=(1, 3))"
            ],
            "text/html": [
              "<style>#sk-container-id-3 {color: black;background-color: white;}#sk-container-id-3 pre{padding: 0;}#sk-container-id-3 div.sk-toggleable {background-color: white;}#sk-container-id-3 label.sk-toggleable__label {cursor: pointer;display: block;width: 100%;margin-bottom: 0;padding: 0.3em;box-sizing: border-box;text-align: center;}#sk-container-id-3 label.sk-toggleable__label-arrow:before {content: \"▸\";float: left;margin-right: 0.25em;color: #696969;}#sk-container-id-3 label.sk-toggleable__label-arrow:hover:before {color: black;}#sk-container-id-3 div.sk-estimator:hover label.sk-toggleable__label-arrow:before {color: black;}#sk-container-id-3 div.sk-toggleable__content {max-height: 0;max-width: 0;overflow: hidden;text-align: left;background-color: #f0f8ff;}#sk-container-id-3 div.sk-toggleable__content pre {margin: 0.2em;color: black;border-radius: 0.25em;background-color: #f0f8ff;}#sk-container-id-3 input.sk-toggleable__control:checked~div.sk-toggleable__content {max-height: 200px;max-width: 100%;overflow: auto;}#sk-container-id-3 input.sk-toggleable__control:checked~label.sk-toggleable__label-arrow:before {content: \"▾\";}#sk-container-id-3 div.sk-estimator input.sk-toggleable__control:checked~label.sk-toggleable__label {background-color: #d4ebff;}#sk-container-id-3 div.sk-label input.sk-toggleable__control:checked~label.sk-toggleable__label {background-color: #d4ebff;}#sk-container-id-3 input.sk-hidden--visually {border: 0;clip: rect(1px 1px 1px 1px);clip: rect(1px, 1px, 1px, 1px);height: 1px;margin: -1px;overflow: hidden;padding: 0;position: absolute;width: 1px;}#sk-container-id-3 div.sk-estimator {font-family: monospace;background-color: #f0f8ff;border: 1px dotted black;border-radius: 0.25em;box-sizing: border-box;margin-bottom: 0.5em;}#sk-container-id-3 div.sk-estimator:hover {background-color: #d4ebff;}#sk-container-id-3 div.sk-parallel-item::after {content: \"\";width: 100%;border-bottom: 1px solid gray;flex-grow: 1;}#sk-container-id-3 div.sk-label:hover label.sk-toggleable__label {background-color: #d4ebff;}#sk-container-id-3 div.sk-serial::before {content: \"\";position: absolute;border-left: 1px solid gray;box-sizing: border-box;top: 0;bottom: 0;left: 50%;z-index: 0;}#sk-container-id-3 div.sk-serial {display: flex;flex-direction: column;align-items: center;background-color: white;padding-right: 0.2em;padding-left: 0.2em;position: relative;}#sk-container-id-3 div.sk-item {position: relative;z-index: 1;}#sk-container-id-3 div.sk-parallel {display: flex;align-items: stretch;justify-content: center;background-color: white;position: relative;}#sk-container-id-3 div.sk-item::before, #sk-container-id-3 div.sk-parallel-item::before {content: \"\";position: absolute;border-left: 1px solid gray;box-sizing: border-box;top: 0;bottom: 0;left: 50%;z-index: -1;}#sk-container-id-3 div.sk-parallel-item {display: flex;flex-direction: column;z-index: 1;position: relative;background-color: white;}#sk-container-id-3 div.sk-parallel-item:first-child::after {align-self: flex-end;width: 50%;}#sk-container-id-3 div.sk-parallel-item:last-child::after {align-self: flex-start;width: 50%;}#sk-container-id-3 div.sk-parallel-item:only-child::after {width: 0;}#sk-container-id-3 div.sk-dashed-wrapped {border: 1px dashed gray;margin: 0 0.4em 0.5em 0.4em;box-sizing: border-box;padding-bottom: 0.4em;background-color: white;}#sk-container-id-3 div.sk-label label {font-family: monospace;font-weight: bold;display: inline-block;line-height: 1.2em;}#sk-container-id-3 div.sk-label-container {text-align: center;}#sk-container-id-3 div.sk-container {/* jupyter's `normalize.less` sets `[hidden] { display: none; }` but bootstrap.min.css set `[hidden] { display: none !important; }` so we also need the `!important` here to be able to override the default hidden behavior on the sphinx rendered scikit-learn.org. See: https://github.com/scikit-learn/scikit-learn/issues/21755 */display: inline-block !important;position: relative;}#sk-container-id-3 div.sk-text-repr-fallback {display: none;}</style><div id=\"sk-container-id-3\" class=\"sk-top-container\"><div class=\"sk-text-repr-fallback\"><pre>TfidfVectorizer(max_df=0.98, max_features=10000, min_df=3, ngram_range=(1, 3))</pre><b>In a Jupyter environment, please rerun this cell to show the HTML representation or trust the notebook. <br />On GitHub, the HTML representation is unable to render, please try loading this page with nbviewer.org.</b></div><div class=\"sk-container\" hidden><div class=\"sk-item\"><div class=\"sk-estimator sk-toggleable\"><input class=\"sk-toggleable__control sk-hidden--visually\" id=\"sk-estimator-id-3\" type=\"checkbox\" checked><label for=\"sk-estimator-id-3\" class=\"sk-toggleable__label sk-toggleable__label-arrow\">TfidfVectorizer</label><div class=\"sk-toggleable__content\"><pre>TfidfVectorizer(max_df=0.98, max_features=10000, min_df=3, ngram_range=(1, 3))</pre></div></div></div></div></div>"
            ]
          },
          "metadata": {},
          "execution_count": 29
        }
      ]
    },
    {
      "cell_type": "code",
      "source": [
        "# Obtener el vocabulario del TfidfVectorizer\n",
        "vocab = cv.vocabulary_\n",
        "\n",
        "# Mostrar las primeras 20 palabras del vocabulario con sus índices\n",
        "print(\"Vocabulario:\")\n",
        "for word, index in list(vocab.items())[:20]:\n",
        "    print(f\"Palabra: {word}, Índice: {index}\")\n"
      ],
      "metadata": {
        "id": "UWiy0pfrLl3I",
        "colab": {
          "base_uri": "https://localhost:8080/"
        },
        "outputId": "b9dd58cf-ccf8-4432-dd77-8da9684c6541"
      },
      "execution_count": 31,
      "outputs": [
        {
          "output_type": "stream",
          "name": "stdout",
          "text": [
            "Vocabulario:\n",
            "Palabra: although, Índice: 163\n",
            "Palabra: really, Índice: 5462\n",
            "Palabra: cute, Índice: 1451\n",
            "Palabra: didnt, Índice: 1580\n",
            "Palabra: last, Índice: 3719\n",
            "Palabra: longer, Índice: 4027\n",
            "Palabra: hours, Índice: 3310\n",
            "Palabra: thats, Índice: 6634\n",
            "Palabra: dog, Índice: 1717\n",
            "Palabra: destructive, Índice: 1561\n",
            "Palabra: really cute, Índice: 5466\n",
            "Palabra: didnt last, Índice: 1593\n",
            "Palabra: last longer, Índice: 3732\n",
            "Palabra: kitten, Índice: 3639\n",
            "Palabra: play, Índice: 5038\n",
            "Palabra: toy, Índice: 6878\n",
            "Palabra: day, Índice: 1472\n",
            "Palabra: get, Índice: 2745\n",
            "Palabra: minutes, Índice: 4377\n",
            "Palabra: shes, Índice: 5955\n"
          ]
        }
      ]
    },
    {
      "cell_type": "code",
      "source": [
        "print(len(cv.vocabulary_))"
      ],
      "metadata": {
        "id": "lSUZ8TP2MpRa",
        "colab": {
          "base_uri": "https://localhost:8080/"
        },
        "outputId": "7d7c2cd4-188b-4c38-8726-0688f642a0cc"
      },
      "execution_count": 32,
      "outputs": [
        {
          "output_type": "stream",
          "name": "stdout",
          "text": [
            "7827\n"
          ]
        }
      ]
    },
    {
      "cell_type": "code",
      "source": [
        "#TF-IDF scores del training set y test set\n",
        "X_train_ = cv.fit_transform(X_train)\n",
        "X_test_ = cv.transform(X_test)"
      ],
      "metadata": {
        "id": "cDb_IPdFNvN1"
      },
      "execution_count": 33,
      "outputs": []
    },
    {
      "cell_type": "code",
      "source": [
        "#relevancia de palabras en todo el corpus\n",
        "# Calcular la puntuación TF-IDF promedio para cada palabra en el conjunto de entrenamiento\n",
        "tfidf_scores = np.asarray(X_train_.mean(axis=0)).ravel()\n",
        "\n",
        "# Crear un DataFrame para las palabras y sus valores TF-IDF\n",
        "df_tfidf = pd.DataFrame({'word': cv.get_feature_names_out(), 'tfidf': tfidf_scores})\n",
        "\n",
        "# Ordenar el DataFrame por los valores TF-IDF en orden descendente (más relevantes primero)\n",
        "df_tfidf_sorted = df_tfidf.sort_values(by='tfidf', ascending=False)\n",
        "\n",
        "# Mostrar las 10 palabras más relevantes con sus valores TF-IDF\n",
        "print(\"Top 10 palabras más relevantes:\")\n",
        "print(df_tfidf_sorted.head(10))\n",
        "\n",
        "# Mostrar las 10 palabras menos relevantes con sus valores TF-IDF\n",
        "print(\"\\nTop 10 palabras menos relevantes:\")\n",
        "print(df_tfidf_sorted.tail(10))\n",
        "\n",
        "\n"
      ],
      "metadata": {
        "id": "dm8e0kshNX1a",
        "colab": {
          "base_uri": "https://localhost:8080/"
        },
        "outputId": "cf826f07-1d8c-4a45-f12f-2db2a6f537da"
      },
      "execution_count": 34,
      "outputs": [
        {
          "output_type": "stream",
          "name": "stdout",
          "text": [
            "Top 10 palabras más relevantes:\n",
            "       word     tfidf\n",
            "1717    dog  0.041225\n",
            "866     cat  0.033396\n",
            "2745    get  0.025807\n",
            "7156    use  0.023308\n",
            "3837   like  0.023165\n",
            "4687    one  0.022788\n",
            "6878    toy  0.021090\n",
            "7656  would  0.020477\n",
            "7585   work  0.020242\n",
            "731     buy  0.019661\n",
            "\n",
            "Top 10 palabras menos relevantes:\n",
            "                   word     tfidf\n",
            "5353        push button  0.000075\n",
            "4326             merely  0.000075\n",
            "6343    still recommend  0.000074\n",
            "5200      probably take  0.000072\n",
            "5535     recommend stay  0.000070\n",
            "3758           lay back  0.000069\n",
            "2720    gallon aquarium  0.000063\n",
            "7380  water circulation  0.000061\n",
            "1144        circulation  0.000061\n",
            "7381        water clean  0.000058\n"
          ]
        }
      ]
    },
    {
      "cell_type": "code",
      "source": [
        "\n",
        "# Elegir una revisión aleatoria y mostras sus datos\n",
        "i = random.randint(0, len(X_train))\n",
        "print('ID: {}'.format(i))\n",
        "print('Sentiment: {}'.format(y_train.iloc[i]))\n",
        "print('Review: {}'.format(X_train.iloc[i]))\n",
        "\n",
        "# Obtener el vector TF-IDF para la revisión i\n",
        "doc_vector = X_train_[i]\n",
        "\n",
        "# Obtener los nombres de las características (palabras) que corresponden a los índices en el vector TF-IDF\n",
        "feature_names = np.array(cv.get_feature_names_out())\n",
        "\n",
        "# Crear un DataFrame con los valores TF-IDF y las palabras correspondientes\n",
        "df_tfidf = pd.DataFrame({'tfidf': doc_vector.data}, index=feature_names[doc_vector.indices])\n",
        "\n",
        "# Ordenar el DataFrame por los valores TF-IDF en orden descendente\n",
        "df_tfidf = df_tfidf.sort_values(by=[\"tfidf\"], ascending=False)\n",
        "\n",
        "top_n = 10\n",
        "print('Top {} palabras con el mayor TF-IDF en la revisión {}:\\n{}'.format(top_n, i, df_tfidf.head(top_n)))\n",
        "print('\\nTop {} palabras con el menor TF-IDF en la revisión {}:\\n{}'.format(top_n, i, df_tfidf.tail(top_n)))\n",
        "\n"
      ],
      "metadata": {
        "id": "E6rFSxQJOJ0c",
        "colab": {
          "base_uri": "https://localhost:8080/"
        },
        "outputId": "c638a653-7ae4-41a0-ce81-f5c9e4bcb5ce"
      },
      "execution_count": 36,
      "outputs": [
        {
          "output_type": "stream",
          "name": "stdout",
          "text": [
            "ID: 1369\n",
            "Sentiment: 1\n",
            "Review: dog stay tray slide constantly cant say anything long term durability since longer\n",
            "Top 10 palabras con el mayor TF-IDF en la revisión 1369:\n",
            "                 tfidf\n",
            "dog stay      0.343166\n",
            "say anything  0.316977\n",
            "long term     0.310728\n",
            "cant say      0.295825\n",
            "durability    0.291753\n",
            "term          0.284539\n",
            "tray          0.272777\n",
            "slide         0.270247\n",
            "constantly    0.248872\n",
            "longer        0.196429\n",
            "\n",
            "Top 10 palabras con el menor TF-IDF en la revisión 1369:\n",
            "               tfidf\n",
            "slide       0.270247\n",
            "constantly  0.248872\n",
            "longer      0.196429\n",
            "stay        0.190692\n",
            "anything    0.183607\n",
            "cant        0.172321\n",
            "long        0.165280\n",
            "since       0.162244\n",
            "say         0.150022\n",
            "dog         0.087965\n"
          ]
        }
      ]
    },
    {
      "cell_type": "markdown",
      "source": [
        "Para abordar la tarea de análisis de sentimientos y clasificación de texto, hemos optado por utilizar dos modelos: regresión logística y Naive Bayes. Estos modelos son apropiados para problemas de clasificación binaria con variables discretas y proporcionan un buen rendimiento inicial.\n",
        "\n",
        "Este enfoque permite, al trabajar con hiperparámetros, conseguir modelos iniciales rápidos y eficaces, en base a estos modelos, a futuro se podrían hacer otros más complejos como SVM, gradient boosting, etc."
      ],
      "metadata": {
        "id": "R4XFHZ6vUOoE"
      }
    },
    {
      "cell_type": "code",
      "source": [
        "# Crear y entrenar un modelo de Regresión Logística\n",
        "lr_model = LogisticRegression(C=1, solver='lbfgs')\n",
        "# C=1 indica una regularización moderada en el modelo.\n",
        "# lbfgs (Limited-memory Broyden-Fletcher-Goldfarb-Shanno) es un algoritmo de optimización apto para problemas de clasificación multiclase y binaria. Funciona de manera similar a Newton-Conjugate Gradient, pero debería ser más eficiente.\n",
        "\n",
        "lr_model.fit(X_train_, y_train)\n",
        "\n",
        "# Predecir las etiquetas en el conjunto de entrenamiento y prueba\n",
        "train_predict = lr_model.predict(X_train_)\n",
        "test_predict = lr_model.predict(X_test_)\n",
        "\n",
        "# Obtener las probabilidades de clase en el conjunto de prueba\n",
        "lr_test_predict_proba = lr_model.predict_proba(X_test_)[:, 1]\n",
        "\n",
        "# Guardar el modelo en un archivo\n",
        "with open('data/lr_model.pkl', 'wb') as model_file:\n",
        "    pickle.dump(lr_model, model_file)\n"
      ],
      "metadata": {
        "id": "I8GgQ92AWWS0"
      },
      "execution_count": 37,
      "outputs": []
    },
    {
      "cell_type": "code",
      "source": [
        "\n",
        "\n",
        "# Evaluar el rendimiento en el conjunto de entrenamiento\n",
        "train_accuracy = accuracy_score(y_train, train_predict)\n",
        "print('Confusion Matrix (Test Set):\\n{}'.format(confusion_matrix(y_train, train_predict)))\n",
        "print('\\nClassification Report (Test Set):\\n{}'.format(classification_report(y_train, train_predict)))\n",
        "print('Accuracy Score (Test Set): {:.2f}%'.format(train_accuracy * 100))\n",
        "\n",
        "\n",
        "# Evaluar el rendimiento en el conjunto de prueba\n",
        "test_accuracy = accuracy_score(y_test, test_predict)\n",
        "print('Confusion Matrix (Test Set):\\n{}'.format(confusion_matrix(y_test, test_predict)))\n",
        "print('\\nClassification Report (Test Set):\\n{}'.format(classification_report(y_test, test_predict)))\n",
        "print('Accuracy Score (Test Set): {:.2f}%'.format(test_accuracy * 100))\n",
        "\n",
        "\n",
        "\n",
        "\n"
      ],
      "metadata": {
        "id": "Oj1247K2Yh4c",
        "colab": {
          "base_uri": "https://localhost:8080/"
        },
        "outputId": "c1c83744-93ff-4d6e-9fc2-8aae368b2999"
      },
      "execution_count": 38,
      "outputs": [
        {
          "output_type": "stream",
          "name": "stdout",
          "text": [
            "Confusion Matrix (Test Set):\n",
            "[[1040   85]\n",
            " [  81 1044]]\n",
            "\n",
            "Classification Report (Test Set):\n",
            "              precision    recall  f1-score   support\n",
            "\n",
            "           0       0.93      0.92      0.93      1125\n",
            "           1       0.92      0.93      0.93      1125\n",
            "\n",
            "    accuracy                           0.93      2250\n",
            "   macro avg       0.93      0.93      0.93      2250\n",
            "weighted avg       0.93      0.93      0.93      2250\n",
            "\n",
            "Accuracy Score (Test Set): 92.62%\n",
            "Confusion Matrix (Test Set):\n",
            "[[276  99]\n",
            " [ 91 284]]\n",
            "\n",
            "Classification Report (Test Set):\n",
            "              precision    recall  f1-score   support\n",
            "\n",
            "           0       0.75      0.74      0.74       375\n",
            "           1       0.74      0.76      0.75       375\n",
            "\n",
            "    accuracy                           0.75       750\n",
            "   macro avg       0.75      0.75      0.75       750\n",
            "weighted avg       0.75      0.75      0.75       750\n",
            "\n",
            "Accuracy Score (Test Set): 74.67%\n"
          ]
        }
      ]
    },
    {
      "cell_type": "markdown",
      "source": [
        "**Conjunto de Entrenamiento:**\n",
        "\n",
        "Accuracy global (precisión): 92..\n",
        "la precisión como la recuperación para ambas clases (0 y 1) son altas, lo que indica un buen rendimiento en el conjunto de entrenamiento.\n",
        "\n",
        "El puntaje F1 también es alto, lo que sugiere un buen equilibrio entre precisión y recuperación.\n",
        "\n",
        "En la matriz de confusión, se pueden comprobar los falsos positivos que no son elevados.\n",
        "\n",
        "**Conjunto de prueba:**\n",
        "\n",
        "Accuracy global (precisión):  75..%\n",
        "El rendimiento del modelo en este punto es inferior, sin embargo, parece que es capaz de mostrar resultados sólidos, ya que F1, además tiene un valor razonablemente alto.\n",
        "\n",
        "En la matriz, el modelo comete algunos fallos, pero funciona bastante bien."
      ],
      "metadata": {
        "id": "z4GAgXpMhk8V"
      }
    },
    {
      "cell_type": "code",
      "source": [
        "# Función para predecir el sentimiento de una revisión y mostrar los resultados (para comprobar cuantas falla)\n",
        "def predict_review_sentiment(review_index, model, df, cv):\n",
        "    print('Review no. {}'.format(review_index))\n",
        "    actual_sentiment = df.iloc[review_index]['sentiment']\n",
        "    review_text = df.iloc[review_index]['processedReview']\n",
        "\n",
        "    # Preparar la revisión para la predicción\n",
        "    review_text_2d = [review_text]  # Convertir a formato bidimensional\n",
        "\n",
        "    # Predecir el sentimiento de la revisión\n",
        "    predicted_sentiment = model.predict(cv.transform(review_text_2d))\n",
        "\n",
        "    print('Actual sentiment: {}'.format(actual_sentiment))\n",
        "    print('Prediction: {}'.format(predicted_sentiment))\n",
        "\n",
        "# Especifica el número de índice de la revisión que deseas ver\n",
        "review_index = 350  # Cambia esto al número de índice deseado\n",
        "\n",
        "# Llama a la función para ver la revisión específica\n",
        "predict_review_sentiment(review_index, lr_model, corpus_df, cv)\n",
        "\n",
        "# Generar 5 índices aleatorios y predecir el sentimiento de las revisiones correspondientes\n",
        "random_indices = random.sample(range(0, len(corpus_df)), 10)\n",
        "for i in random_indices:\n",
        "    predict_review_sentiment(i, lr_model, corpus_df, cv)\n"
      ],
      "metadata": {
        "id": "Mmp8q4e9bjyN",
        "colab": {
          "base_uri": "https://localhost:8080/"
        },
        "outputId": "5843e7ef-0560-494e-f1da-570891b92915"
      },
      "execution_count": 40,
      "outputs": [
        {
          "output_type": "stream",
          "name": "stdout",
          "text": [
            "Review no. 350\n",
            "Actual sentiment: 0\n",
            "Prediction: [1]\n",
            "Review no. 1861\n",
            "Actual sentiment: 1\n",
            "Prediction: [1]\n",
            "Review no. 741\n",
            "Actual sentiment: 0\n",
            "Prediction: [0]\n",
            "Review no. 2756\n",
            "Actual sentiment: 1\n",
            "Prediction: [1]\n",
            "Review no. 2697\n",
            "Actual sentiment: 1\n",
            "Prediction: [1]\n",
            "Review no. 2892\n",
            "Actual sentiment: 1\n",
            "Prediction: [1]\n",
            "Review no. 2846\n",
            "Actual sentiment: 1\n",
            "Prediction: [1]\n",
            "Review no. 862\n",
            "Actual sentiment: 0\n",
            "Prediction: [0]\n",
            "Review no. 1428\n",
            "Actual sentiment: 0\n",
            "Prediction: [0]\n",
            "Review no. 2585\n",
            "Actual sentiment: 1\n",
            "Prediction: [1]\n",
            "Review no. 608\n",
            "Actual sentiment: 0\n",
            "Prediction: [1]\n"
          ]
        }
      ]
    },
    {
      "cell_type": "code",
      "source": [
        "\n",
        "# Valores de C que deseas probar\n",
        "C_values = [0.01, 0.05, 0.25, 0.5, 1, 10, 100, 1000, 10000]\n",
        "\n",
        "# Listas para almacenar las precisiones\n",
        "train_accuracies = []\n",
        "test_accuracies = []\n",
        "\n",
        "# Ajustar el modelo y registrar las precisiones para cada valor de C\n",
        "for C in C_values:\n",
        "    # Crear y entrenar un modelo de Regresión Logística con el valor de C actual\n",
        "    lr_model = LogisticRegression(C=C, solver='lbfgs', max_iter=500)\n",
        "    lr_model.fit(X_train_, y_train)\n",
        "\n",
        "    # Predecir las etiquetas en el conjunto de entrenamiento y prueba\n",
        "    train_predict = lr_model.predict(X_train_)\n",
        "    test_predict = lr_model.predict(X_test_)\n",
        "\n",
        "    # Calcular la precisión en el conjunto de entrenamiento y prueba\n",
        "    train_accuracy = accuracy_score(y_train, train_predict)\n",
        "    test_accuracy = accuracy_score(y_test, test_predict)\n",
        "\n",
        "    # Registrar las precisiones en las listas\n",
        "    train_accuracies.append(train_accuracy)\n",
        "    test_accuracies.append(test_accuracy)\n",
        "\n",
        "# Encontrar el valor óptimo de C basado en la precisión en el conjunto de prueba\n",
        "optimal_C = C_values[np.argmax(test_accuracies)]\n",
        "optimal_accuracy = max(test_accuracies)\n",
        "\n",
        "# Crear el gráfico de precisión vs. valor de C\n",
        "plt.figure(figsize=(10, 6))\n",
        "plt.plot(np.log10(C_values), train_accuracies, marker='o', label='Entrenamiento')\n",
        "plt.plot(np.log10(C_values), test_accuracies, marker='o', label='Prueba')\n",
        "plt.axvline(np.log10(optimal_C), c='g', ls='--', alpha=0.8, label=f'Óptimo C={optimal_C}, Precisión={optimal_accuracy:.2f}')\n",
        "plt.title('Precisión vs. Valor de C en Regresión Logística')\n",
        "plt.xlabel('log(C)')\n",
        "plt.ylabel('Precisión')\n",
        "plt.xticks(np.log10(C_values), C_values)\n",
        "plt.legend()\n",
        "plt.grid(True)\n",
        "plt.show()\n",
        "\n",
        "print(f'El valor óptimo de C es {optimal_C} con una precisión en el conjunto de prueba de {optimal_accuracy:.2f}')\n"
      ],
      "metadata": {
        "id": "JkA8Yn7MjMpt",
        "colab": {
          "base_uri": "https://localhost:8080/",
          "height": 583
        },
        "outputId": "84ee5e0d-8ff4-4681-d972-eea5bde76c8d"
      },
      "execution_count": 41,
      "outputs": [
        {
          "output_type": "display_data",
          "data": {
            "text/plain": [
              "<Figure size 1000x600 with 1 Axes>"
            ],
            "image/png": "[encoded data removed]"
          },
          "metadata": {}
        },
        {
          "output_type": "stream",
          "name": "stdout",
          "text": [
            "El valor óptimo de C es 0.05 con una precisión en el conjunto de prueba de 0.76\n"
          ]
        }
      ]
    },
    {
      "cell_type": "markdown",
      "source": [
        "En teoría se podría mejorar el modelo poniendo una C = 0.05, en la práctica no me parece tan obvio."
      ],
      "metadata": {
        "id": "pwvk9-7Fnw_U"
      }
    },
    {
      "cell_type": "markdown",
      "source": [
        "Generamos el segundo modelo"
      ],
      "metadata": {
        "id": "kFJpCJoIn3fr"
      }
    },
    {
      "cell_type": "code",
      "source": [
        "\n",
        "mnb_model = MultinomialNB()\n",
        "mnb_model.fit(X_train_, y_train)\n",
        "\n"
      ],
      "metadata": {
        "id": "8s4TopJOoJST",
        "colab": {
          "base_uri": "https://localhost:8080/",
          "height": 75
        },
        "outputId": "829f7f3b-04f6-4d40-f872-99db430e57f3"
      },
      "execution_count": 42,
      "outputs": [
        {
          "output_type": "execute_result",
          "data": {
            "text/plain": [
              "MultinomialNB()"
            ],
            "text/html": [
              "<style>#sk-container-id-4 {color: black;background-color: white;}#sk-container-id-4 pre{padding: 0;}#sk-container-id-4 div.sk-toggleable {background-color: white;}#sk-container-id-4 label.sk-toggleable__label {cursor: pointer;display: block;width: 100%;margin-bottom: 0;padding: 0.3em;box-sizing: border-box;text-align: center;}#sk-container-id-4 label.sk-toggleable__label-arrow:before {content: \"▸\";float: left;margin-right: 0.25em;color: #696969;}#sk-container-id-4 label.sk-toggleable__label-arrow:hover:before {color: black;}#sk-container-id-4 div.sk-estimator:hover label.sk-toggleable__label-arrow:before {color: black;}#sk-container-id-4 div.sk-toggleable__content {max-height: 0;max-width: 0;overflow: hidden;text-align: left;background-color: #f0f8ff;}#sk-container-id-4 div.sk-toggleable__content pre {margin: 0.2em;color: black;border-radius: 0.25em;background-color: #f0f8ff;}#sk-container-id-4 input.sk-toggleable__control:checked~div.sk-toggleable__content {max-height: 200px;max-width: 100%;overflow: auto;}#sk-container-id-4 input.sk-toggleable__control:checked~label.sk-toggleable__label-arrow:before {content: \"▾\";}#sk-container-id-4 div.sk-estimator input.sk-toggleable__control:checked~label.sk-toggleable__label {background-color: #d4ebff;}#sk-container-id-4 div.sk-label input.sk-toggleable__control:checked~label.sk-toggleable__label {background-color: #d4ebff;}#sk-container-id-4 input.sk-hidden--visually {border: 0;clip: rect(1px 1px 1px 1px);clip: rect(1px, 1px, 1px, 1px);height: 1px;margin: -1px;overflow: hidden;padding: 0;position: absolute;width: 1px;}#sk-container-id-4 div.sk-estimator {font-family: monospace;background-color: #f0f8ff;border: 1px dotted black;border-radius: 0.25em;box-sizing: border-box;margin-bottom: 0.5em;}#sk-container-id-4 div.sk-estimator:hover {background-color: #d4ebff;}#sk-container-id-4 div.sk-parallel-item::after {content: \"\";width: 100%;border-bottom: 1px solid gray;flex-grow: 1;}#sk-container-id-4 div.sk-label:hover label.sk-toggleable__label {background-color: #d4ebff;}#sk-container-id-4 div.sk-serial::before {content: \"\";position: absolute;border-left: 1px solid gray;box-sizing: border-box;top: 0;bottom: 0;left: 50%;z-index: 0;}#sk-container-id-4 div.sk-serial {display: flex;flex-direction: column;align-items: center;background-color: white;padding-right: 0.2em;padding-left: 0.2em;position: relative;}#sk-container-id-4 div.sk-item {position: relative;z-index: 1;}#sk-container-id-4 div.sk-parallel {display: flex;align-items: stretch;justify-content: center;background-color: white;position: relative;}#sk-container-id-4 div.sk-item::before, #sk-container-id-4 div.sk-parallel-item::before {content: \"\";position: absolute;border-left: 1px solid gray;box-sizing: border-box;top: 0;bottom: 0;left: 50%;z-index: -1;}#sk-container-id-4 div.sk-parallel-item {display: flex;flex-direction: column;z-index: 1;position: relative;background-color: white;}#sk-container-id-4 div.sk-parallel-item:first-child::after {align-self: flex-end;width: 50%;}#sk-container-id-4 div.sk-parallel-item:last-child::after {align-self: flex-start;width: 50%;}#sk-container-id-4 div.sk-parallel-item:only-child::after {width: 0;}#sk-container-id-4 div.sk-dashed-wrapped {border: 1px dashed gray;margin: 0 0.4em 0.5em 0.4em;box-sizing: border-box;padding-bottom: 0.4em;background-color: white;}#sk-container-id-4 div.sk-label label {font-family: monospace;font-weight: bold;display: inline-block;line-height: 1.2em;}#sk-container-id-4 div.sk-label-container {text-align: center;}#sk-container-id-4 div.sk-container {/* jupyter's `normalize.less` sets `[hidden] { display: none; }` but bootstrap.min.css set `[hidden] { display: none !important; }` so we also need the `!important` here to be able to override the default hidden behavior on the sphinx rendered scikit-learn.org. See: https://github.com/scikit-learn/scikit-learn/issues/21755 */display: inline-block !important;position: relative;}#sk-container-id-4 div.sk-text-repr-fallback {display: none;}</style><div id=\"sk-container-id-4\" class=\"sk-top-container\"><div class=\"sk-text-repr-fallback\"><pre>MultinomialNB()</pre><b>In a Jupyter environment, please rerun this cell to show the HTML representation or trust the notebook. <br />On GitHub, the HTML representation is unable to render, please try loading this page with nbviewer.org.</b></div><div class=\"sk-container\" hidden><div class=\"sk-item\"><div class=\"sk-estimator sk-toggleable\"><input class=\"sk-toggleable__control sk-hidden--visually\" id=\"sk-estimator-id-4\" type=\"checkbox\" checked><label for=\"sk-estimator-id-4\" class=\"sk-toggleable__label sk-toggleable__label-arrow\">MultinomialNB</label><div class=\"sk-toggleable__content\"><pre>MultinomialNB()</pre></div></div></div></div></div>"
            ]
          },
          "metadata": {},
          "execution_count": 42
        }
      ]
    },
    {
      "cell_type": "code",
      "source": [
        "mnb_train_predict = mnb_model.predict(X_train_)\n",
        "mnb_test_predict = mnb_model.predict(X_test_)\n",
        "mnb_test_predict_proba = mnb_model.predict_proba(X_test_)[:, 1]"
      ],
      "metadata": {
        "id": "FP3UWhhSpDn-"
      },
      "execution_count": 43,
      "outputs": []
    },
    {
      "cell_type": "code",
      "source": [
        "\n",
        "pickle.dump(mnb_model, open('data/mnb_model.pkl', 'wb'))"
      ],
      "metadata": {
        "id": "gPlj6B-6pFVh"
      },
      "execution_count": 44,
      "outputs": []
    },
    {
      "cell_type": "code",
      "source": [
        "from sklearn.naive_bayes import MultinomialNB\n",
        "\n",
        "# Inicializar y entrenar el modelo Naive Bayes Multinomial\n",
        "mnb_model = MultinomialNB()\n",
        "mnb_model.fit(X_train_, y_train)\n",
        "\n",
        "# Predecir las etiquetas en el conjunto de entrenamiento y prueba\n",
        "mnb_train_predict = mnb_model.predict(X_train_)\n",
        "mnb_test_predict = mnb_model.predict(X_test_)\n",
        "\n",
        "# Predecir las probabilidades en el conjunto de prueba\n",
        "mnb_test_predict_proba = mnb_model.predict_proba(X_test_)[:, 1]\n"
      ],
      "metadata": {
        "id": "WESNTr61pL7P"
      },
      "execution_count": 45,
      "outputs": []
    },
    {
      "cell_type": "code",
      "source": [
        "\n",
        "# Crear un DataFrame con todas las predicciones de ambos modelos\n",
        "df_predictions = pd.DataFrame({\n",
        "    'Actual Sentiment': y_test,\n",
        "    'LR Test Predictions': test_predict,\n",
        "    'LR Test Predictions Probabilities': lr_test_predict_proba,\n",
        "    'MNB Test Predictions': mnb_test_predict,\n",
        "    'MNB Test Predictions Probabilities': mnb_test_predict_proba\n",
        "})\n",
        "\n",
        "# Guardar las predicciones en un archivo CSV\n",
        "df_predictions.to_csv('data/predictions.csv', index=False)"
      ],
      "metadata": {
        "id": "jgDxRmmD10m6"
      },
      "execution_count": 46,
      "outputs": []
    },
    {
      "cell_type": "code",
      "source": [
        "def print_model_metrics(y_test, y_test_predict):\n",
        "    print('Confussion matrix:\\n{}'.format(confusion_matrix(y_test, y_test_predict)))\n",
        "    print('\\nClassification report:\\n{}'.format(classification_report(y_test, y_test_predict)))\n",
        "    print('Accuracy score:{}'.format(accuracy_score(y_test, y_test_predict)))"
      ],
      "metadata": {
        "id": "9iDsUm1PrKKW"
      },
      "execution_count": 47,
      "outputs": []
    },
    {
      "cell_type": "code",
      "source": [
        "\n",
        "# Inicializar y entrenar el modelo Naive Bayes Multinomial\n",
        "mnb_model = MultinomialNB()\n",
        "mnb_model.fit(X_train_, y_train)\n",
        "\n",
        "# Calcular métricas para el conjunto de entrenamiento\n",
        "# Predecir las etiquetas en el conjunto de entrenamiento\n",
        "mnb_train_predict = mnb_model.predict(X_train_)\n",
        "print(\"\\n Training Set: \\n\")\n",
        "# Calcular la matriz de confusión para el conjunto de entrenamiento\n",
        "confusion_train = confusion_matrix(y_train, mnb_train_predict)\n",
        "print('\\nConfusion Matrix (Training Set):\\n{}'.format(confusion_train))\n",
        "\n",
        "# Mostrar el informe de clasificación para el conjunto de entrenamiento\n",
        "classification_rep_train = classification_report(y_train, mnb_train_predict)\n",
        "print('\\nClassification Report (Training Set):\\n{}'.format(classification_rep_train))\n",
        "\n",
        "# Calcular y mostrar la puntuación de precisión para el conjunto de entrenamiento\n",
        "accuracy_train = accuracy_score(y_train, mnb_train_predict)\n",
        "print('Accuracy Score (Training Set): {}'.format(accuracy_train))\n",
        "\n",
        "# Predecir las etiquetas en el conjunto de prueba\n",
        "mnb_test_predict = mnb_model.predict(X_test_)\n",
        "\n",
        "print(\"\\n Test Set: \\n\")\n",
        "# Calcular la matriz de confusión para el conjunto de prueba\n",
        "confusion_test = confusion_matrix(y_test, mnb_test_predict)\n",
        "print('Confusion Matrix (Test Set):\\n{}'.format(confusion_test))\n",
        "\n",
        "# Mostrar el informe de clasificación para el conjunto de prueba\n",
        "classification_rep_test = classification_report(y_test, mnb_test_predict)\n",
        "print('\\nClassification Report (Test Set):\\n{}'.format(classification_rep_test))\n",
        "\n",
        "# Calcular y mostrar la puntuación de precisión para el conjunto de prueba\n",
        "accuracy_test = accuracy_score(y_test, mnb_test_predict)\n",
        "print('Accuracy Score (Test Set): {}'.format(accuracy_test))\n",
        "\n"
      ],
      "metadata": {
        "id": "5o_4kgo7sSN3",
        "colab": {
          "base_uri": "https://localhost:8080/"
        },
        "outputId": "48d846be-336c-42ea-97ed-486742839209"
      },
      "execution_count": 48,
      "outputs": [
        {
          "output_type": "stream",
          "name": "stdout",
          "text": [
            "\n",
            " Training Set: \n",
            "\n",
            "\n",
            "Confusion Matrix (Training Set):\n",
            "[[1056   69]\n",
            " [  59 1066]]\n",
            "\n",
            "Classification Report (Training Set):\n",
            "              precision    recall  f1-score   support\n",
            "\n",
            "           0       0.95      0.94      0.94      1125\n",
            "           1       0.94      0.95      0.94      1125\n",
            "\n",
            "    accuracy                           0.94      2250\n",
            "   macro avg       0.94      0.94      0.94      2250\n",
            "weighted avg       0.94      0.94      0.94      2250\n",
            "\n",
            "Accuracy Score (Training Set): 0.9431111111111111\n",
            "\n",
            " Test Set: \n",
            "\n",
            "Confusion Matrix (Test Set):\n",
            "[[281  94]\n",
            " [ 94 281]]\n",
            "\n",
            "Classification Report (Test Set):\n",
            "              precision    recall  f1-score   support\n",
            "\n",
            "           0       0.75      0.75      0.75       375\n",
            "           1       0.75      0.75      0.75       375\n",
            "\n",
            "    accuracy                           0.75       750\n",
            "   macro avg       0.75      0.75      0.75       750\n",
            "weighted avg       0.75      0.75      0.75       750\n",
            "\n",
            "Accuracy Score (Test Set): 0.7493333333333333\n"
          ]
        }
      ]
    },
    {
      "cell_type": "markdown",
      "source": [
        "Observamos que ambos modelos son bastante similares, observamos que, tras varios intentos, el Multinomial Naive Bayes, da un resultado ligeramente superior tanto en training como en test. Ambos modelos también tardan lo mismo en realizar los cálculos, para el report, por tanto, escogeremos el Naive Bayes"
      ],
      "metadata": {
        "id": "pkc9wXwzwtjl"
      }
    }
  ]
}